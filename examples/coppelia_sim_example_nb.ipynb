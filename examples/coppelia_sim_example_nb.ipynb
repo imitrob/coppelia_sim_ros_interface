{
 "cells": [
  {
   "cell_type": "markdown",
   "id": "2635e752",
   "metadata": {},
   "source": [
    "# Example showcase of PyRep and Panda Robot without ROS"
   ]
  },
  {
   "cell_type": "code",
   "execution_count": 1,
   "id": "3c155d0f",
   "metadata": {},
   "outputs": [],
   "source": [
    "import numpy as np\n",
    "from pyrep import PyRep\n",
    "from pyrep.objects.shape import Shape\n",
    "from pyrep.const import PrimitiveShape, TextureMappingMode\n",
    "from pyrep.robots.arms.panda import Panda\n",
    "from pyrep.robots.end_effectors.panda_gripper import PandaGripper\n",
    "from pyrep.errors import ConfigurationPathError"
   ]
  },
  {
   "cell_type": "markdown",
   "id": "48205f9e",
   "metadata": {},
   "source": [
    "Load Scenes/Textures directory"
   ]
  },
  {
   "cell_type": "code",
   "execution_count": 2,
   "id": "99e18975",
   "metadata": {},
   "outputs": [],
   "source": [
    "import os\n",
    "#SCENES='/'.join(os.path.realpath(__file__).split('/')[:-2])+str('/include/scenes/')\n",
    "#TEXTURES='/'.join(os.path.realpath(__file__).split('/')[:-2])+str('/include/textures/')\n",
    "SCENES=os.path.realpath(\"./../include/scenes/\")\n",
    "TEXTURES=os.path.realpath(\"./../include/textures/\")"
   ]
  },
  {
   "cell_type": "code",
   "execution_count": 3,
   "id": "bdd0b203",
   "metadata": {},
   "outputs": [],
   "source": [
    "SCENE = 'scene_panda_franka_gripper.ttt'"
   ]
  },
  {
   "cell_type": "code",
   "execution_count": 4,
   "id": "42dfde34",
   "metadata": {},
   "outputs": [
    {
     "name": "stderr",
     "output_type": "stream",
     "text": [
      "Warning: Ignoring XDG_SESSION_TYPE=wayland on Gnome. Use QT_QPA_PLATFORM=wayland to run on Wayland anyway.\n"
     ]
    }
   ],
   "source": [
    "pr = PyRep()\n",
    "# Launch the application with a scene file\n",
    "pr.launch(SCENES+'//'+SCENE, headless=False, responsive_ui=True)\n",
    "pr.start()  # Start the simulation\n",
    "pr.step()"
   ]
  },
  {
   "cell_type": "code",
   "execution_count": 5,
   "id": "7ec030c6",
   "metadata": {},
   "outputs": [],
   "source": [
    "panda = Panda()  # Get the panda from the scene\n",
    "gripper = PandaGripper()  # Get the panda gripper from the scene"
   ]
  },
  {
   "cell_type": "code",
   "execution_count": 6,
   "id": "a3d53926",
   "metadata": {},
   "outputs": [],
   "source": [
    "velocities = [.1, .2, .3, .4, .5, .6, .7]\n",
    "panda.set_joint_target_velocities(velocities)\n",
    "panda.set_joint_positions([0.,0.,0.,-np.pi/2,0.,np.pi/3,np.pi])"
   ]
  },
  {
   "cell_type": "code",
   "execution_count": 7,
   "id": "f18ae742",
   "metadata": {},
   "outputs": [],
   "source": [
    "panda.set_joint_target_positions([0.,0.,0.,0.,0.,0.,0.])\n",
    "for i in range(200):\n",
    "    pr.step() # simulate behaviour"
   ]
  },
  {
   "cell_type": "code",
   "execution_count": 8,
   "id": "5f4e9066",
   "metadata": {},
   "outputs": [],
   "source": [
    "panda.set_joint_positions([0.,0.,0.,0.,0.,0.,0.])\n",
    "\n",
    "for i in range(200):\n",
    "    pr.step() # simulate behaviour"
   ]
  },
  {
   "cell_type": "code",
   "execution_count": 9,
   "id": "dde0f603",
   "metadata": {},
   "outputs": [],
   "source": [
    "panda.get_joint_count()\n",
    "panda.get_joint_forces()\n",
    "panda.get_joint_modes()\n",
    "[panda.joints[j].is_motor_enabled() for j in range(7)]\n",
    "panda.joints[0].set_joint_target_position(1.)\n",
    "panda.set_joint_target_velocities([0.2,0.02,0.02,0.02,0.02,0.02,0.02])\n",
    "panda.set_joint_target_positions([0.,-np.pi/4,0.,-np.pi/2,0.,np.pi/3,np.pi])"
   ]
  },
  {
   "cell_type": "code",
   "execution_count": 10,
   "id": "7e13499c",
   "metadata": {},
   "outputs": [],
   "source": [
    "for i in range(200):\n",
    "    pr.step() # simulate behaviour"
   ]
  },
  {
   "cell_type": "markdown",
   "id": "2fdf6410",
   "metadata": {},
   "source": [
    "# Add some objects to scene"
   ]
  },
  {
   "cell_type": "code",
   "execution_count": 11,
   "id": "ed309d16",
   "metadata": {},
   "outputs": [],
   "source": [
    "colors = [[1.,0.,0.], [0.,1.,0.], [0.,0.,1.]]\n",
    "positions = [[0.3, 0.3, 0.1], [-0.5, -0.3, 0.1], [0.2, -0.3, 0.1]]\n",
    "shapes = [PrimitiveShape.CYLINDER, PrimitiveShape.CONE, PrimitiveShape.SPHERE]\n",
    "for i in range(0,3):\n",
    "    object = Shape.create(type=shapes[i],\n",
    "                          color=colors[i], size=[0.075, 0.075, 0.075],\n",
    "                          position=positions[i])"
   ]
  },
  {
   "cell_type": "code",
   "execution_count": 12,
   "id": "c7cbce48",
   "metadata": {},
   "outputs": [],
   "source": [
    "for i in range(20):\n",
    "    pr.step() # simulate behaviour"
   ]
  },
  {
   "cell_type": "markdown",
   "id": "41f4f871",
   "metadata": {},
   "source": [
    "# Move the gripper "
   ]
  },
  {
   "cell_type": "code",
   "execution_count": 13,
   "id": "42def648",
   "metadata": {},
   "outputs": [],
   "source": [
    "done = False\n",
    "# Open the gripper halfway at a velocity of 0.04.\n",
    "while not done:\n",
    "    done = gripper.actuate(0.0, velocity=0.04)\n",
    "    pr.step()"
   ]
  },
  {
   "cell_type": "markdown",
   "id": "fafc9476",
   "metadata": {},
   "source": [
    "# Control Panda via IK"
   ]
  },
  {
   "cell_type": "code",
   "execution_count": 27,
   "id": "0c6eb766",
   "metadata": {},
   "outputs": [
    {
     "ename": "IKError",
     "evalue": "IK failed. Perhaps the distance was between the tip  and target was too large.",
     "output_type": "error",
     "traceback": [
      "\u001b[0;31m---------------------------------------------------------------------------\u001b[0m",
      "\u001b[0;31mIKError\u001b[0m                                   Traceback (most recent call last)",
      "Input \u001b[0;32mIn [27]\u001b[0m, in \u001b[0;36m<module>\u001b[0;34m\u001b[0m\n\u001b[1;32m      8\u001b[0m     panda\u001b[38;5;241m.\u001b[39mset_joint_target_positions(new_joint_angles)\n\u001b[1;32m      9\u001b[0m     pr\u001b[38;5;241m.\u001b[39mstep()\n\u001b[0;32m---> 11\u001b[0m [move(\u001b[38;5;241m2\u001b[39m, DELTA) \u001b[38;5;28;01mfor\u001b[39;00m _ \u001b[38;5;129;01min\u001b[39;00m \u001b[38;5;28mrange\u001b[39m(\u001b[38;5;241m10\u001b[39m)]\n\u001b[1;32m     12\u001b[0m [move(\u001b[38;5;241m2\u001b[39m, \u001b[38;5;241m-\u001b[39mDELTA) \u001b[38;5;28;01mfor\u001b[39;00m _ \u001b[38;5;129;01min\u001b[39;00m \u001b[38;5;28mrange\u001b[39m(\u001b[38;5;241m10\u001b[39m)]\n\u001b[1;32m     13\u001b[0m [move(\u001b[38;5;241m1\u001b[39m, \u001b[38;5;241m-\u001b[39mDELTA) \u001b[38;5;28;01mfor\u001b[39;00m _ \u001b[38;5;129;01min\u001b[39;00m \u001b[38;5;28mrange\u001b[39m(\u001b[38;5;241m10\u001b[39m)]\n",
      "Input \u001b[0;32mIn [27]\u001b[0m, in \u001b[0;36m<listcomp>\u001b[0;34m(.0)\u001b[0m\n\u001b[1;32m      8\u001b[0m     panda\u001b[38;5;241m.\u001b[39mset_joint_target_positions(new_joint_angles)\n\u001b[1;32m      9\u001b[0m     pr\u001b[38;5;241m.\u001b[39mstep()\n\u001b[0;32m---> 11\u001b[0m [\u001b[43mmove\u001b[49m\u001b[43m(\u001b[49m\u001b[38;5;241;43m2\u001b[39;49m\u001b[43m,\u001b[49m\u001b[43m \u001b[49m\u001b[43mDELTA\u001b[49m\u001b[43m)\u001b[49m \u001b[38;5;28;01mfor\u001b[39;00m _ \u001b[38;5;129;01min\u001b[39;00m \u001b[38;5;28mrange\u001b[39m(\u001b[38;5;241m10\u001b[39m)]\n\u001b[1;32m     12\u001b[0m [move(\u001b[38;5;241m2\u001b[39m, \u001b[38;5;241m-\u001b[39mDELTA) \u001b[38;5;28;01mfor\u001b[39;00m _ \u001b[38;5;129;01min\u001b[39;00m \u001b[38;5;28mrange\u001b[39m(\u001b[38;5;241m10\u001b[39m)]\n\u001b[1;32m     13\u001b[0m [move(\u001b[38;5;241m1\u001b[39m, \u001b[38;5;241m-\u001b[39mDELTA) \u001b[38;5;28;01mfor\u001b[39;00m _ \u001b[38;5;129;01min\u001b[39;00m \u001b[38;5;28mrange\u001b[39m(\u001b[38;5;241m10\u001b[39m)]\n",
      "Input \u001b[0;32mIn [27]\u001b[0m, in \u001b[0;36mmove\u001b[0;34m(index, delta)\u001b[0m\n\u001b[1;32m      5\u001b[0m \u001b[38;5;28;01mdef\u001b[39;00m \u001b[38;5;21mmove\u001b[39m(index, delta):\n\u001b[1;32m      6\u001b[0m     pos[index] \u001b[38;5;241m+\u001b[39m\u001b[38;5;241m=\u001b[39m delta\n\u001b[0;32m----> 7\u001b[0m     new_joint_angles \u001b[38;5;241m=\u001b[39m \u001b[43mpanda\u001b[49m\u001b[38;5;241;43m.\u001b[39;49m\u001b[43msolve_ik_via_jacobian\u001b[49m\u001b[43m(\u001b[49m\u001b[43mpos\u001b[49m\u001b[43m,\u001b[49m\u001b[43m \u001b[49m\u001b[43mquaternion\u001b[49m\u001b[38;5;241;43m=\u001b[39;49m\u001b[43mquat\u001b[49m\u001b[43m)\u001b[49m\n\u001b[1;32m      8\u001b[0m     panda\u001b[38;5;241m.\u001b[39mset_joint_target_positions(new_joint_angles)\n\u001b[1;32m      9\u001b[0m     pr\u001b[38;5;241m.\u001b[39mstep()\n",
      "File \u001b[0;32m~/anaconda3/envs/robostackenv/lib/python3.8/site-packages/pyrep/robots/arms/arm.py:232\u001b[0m, in \u001b[0;36mArm.solve_ik_via_jacobian\u001b[0;34m(self, position, euler, quaternion, relative_to)\u001b[0m\n\u001b[1;32m    229\u001b[0m ik_result, joint_values \u001b[38;5;241m=\u001b[39m sim\u001b[38;5;241m.\u001b[39msimCheckIkGroup(\n\u001b[1;32m    230\u001b[0m     \u001b[38;5;28mself\u001b[39m\u001b[38;5;241m.\u001b[39m_ik_group, [j\u001b[38;5;241m.\u001b[39mget_handle() \u001b[38;5;28;01mfor\u001b[39;00m j \u001b[38;5;129;01min\u001b[39;00m \u001b[38;5;28mself\u001b[39m\u001b[38;5;241m.\u001b[39mjoints])\n\u001b[1;32m    231\u001b[0m \u001b[38;5;28;01mif\u001b[39;00m ik_result \u001b[38;5;241m==\u001b[39m sim\u001b[38;5;241m.\u001b[39msim_ikresult_fail:\n\u001b[0;32m--> 232\u001b[0m     \u001b[38;5;28;01mraise\u001b[39;00m IKError(\u001b[38;5;124m'\u001b[39m\u001b[38;5;124mIK failed. Perhaps the distance was between the tip \u001b[39m\u001b[38;5;124m'\u001b[39m\n\u001b[1;32m    233\u001b[0m                   \u001b[38;5;124m'\u001b[39m\u001b[38;5;124m and target was too large.\u001b[39m\u001b[38;5;124m'\u001b[39m)\n\u001b[1;32m    234\u001b[0m \u001b[38;5;28;01melif\u001b[39;00m ik_result \u001b[38;5;241m==\u001b[39m sim\u001b[38;5;241m.\u001b[39msim_ikresult_not_performed:\n\u001b[1;32m    235\u001b[0m     \u001b[38;5;28;01mraise\u001b[39;00m IKError(\u001b[38;5;124m'\u001b[39m\u001b[38;5;124mIK not performed.\u001b[39m\u001b[38;5;124m'\u001b[39m)\n",
      "\u001b[0;31mIKError\u001b[0m: IK failed. Perhaps the distance was between the tip  and target was too large."
     ]
    }
   ],
   "source": [
    "DELTA = 0.01\n",
    "starting_joint_positions = panda.get_joint_positions()\n",
    "pos, quat = panda.get_tip().get_position(), panda.get_tip().get_quaternion()\n",
    "\n",
    "def move(index, delta):\n",
    "    pos[index] += delta\n",
    "    new_joint_angles = panda.solve_ik_via_jacobian(pos, quaternion=quat)\n",
    "    panda.set_joint_target_positions(new_joint_angles)\n",
    "    pr.step()\n",
    "\n",
    "[move(2, DELTA) for _ in range(10)]\n",
    "[move(2, -DELTA) for _ in range(10)]\n",
    "[move(1, -DELTA) for _ in range(10)]\n",
    "[move(2, DELTA) for _ in range(10)]\n",
    "[move(1, DELTA) for _ in range(10)]"
   ]
  },
  {
   "cell_type": "markdown",
   "id": "65c84fc3",
   "metadata": {},
   "source": [
    "# Reach the targets with panda"
   ]
  },
  {
   "cell_type": "code",
   "execution_count": 28,
   "id": "ea821236",
   "metadata": {},
   "outputs": [
    {
     "name": "stdout",
     "output_type": "stream",
     "text": [
      "Reached target 0!\n",
      "Reached target 1!\n",
      "Reached target 2!\n",
      "Reached target 3!\n",
      "Reached target 4!\n",
      "Reached target 5!\n",
      "Reached target 6!\n",
      "Reached target 7!\n",
      "Reached target 8!\n",
      "Reached target 9!\n"
     ]
    }
   ],
   "source": [
    "# We could have made this target in the scene, but lets create one dynamically\n",
    "target = Shape.create(type=PrimitiveShape.SPHERE,\n",
    "                      size=[0.05, 0.05, 0.05],\n",
    "                      color=[1.0, 0.1, 0.1],\n",
    "                      static=True, respondable=False)\n",
    "\n",
    "position_min, position_max = [0.6, -0.2, 0.0], [0.8, 0.2, 0.4]\n",
    "\n",
    "starting_joint_positions = panda.get_joint_positions()\n",
    "\n",
    "LOOPS = 10\n",
    "panda.set_joint_positions(starting_joint_positions)\n",
    "for i in range(LOOPS):\n",
    "\n",
    "    # Reset the arm at the start of each 'episode'\n",
    "    #panda.set_joint_positions(starting_joint_positions)\n",
    "\n",
    "    # Get a random position within a cuboid and set the target position\n",
    "    pos = list(np.random.uniform(position_min, position_max))\n",
    "    target.set_position(pos)\n",
    "\n",
    "    # Get a path to the target (rotate so z points down)\n",
    "    try:\n",
    "        path = panda.get_path(\n",
    "            position=pos, euler=[0, np.radians(180), 0])\n",
    "    except ConfigurationPathError as e:\n",
    "        print('Could not find path')\n",
    "        print(\"For pos:\", pos)\n",
    "        continue\n",
    "\n",
    "    # Step the simulation and advance the agent along the path\n",
    "    done = False\n",
    "    while not done:\n",
    "        done = path.step()\n",
    "        pr.step()\n",
    "    print('Reached target %d!' % i)"
   ]
  },
  {
   "cell_type": "markdown",
   "id": "cfaf22c1",
   "metadata": {},
   "source": [
    "# Add object and set the texture"
   ]
  },
  {
   "cell_type": "code",
   "execution_count": 29,
   "id": "92e71471",
   "metadata": {},
   "outputs": [
    {
     "ename": "RuntimeError",
     "evalue": "The call failed on the V-REP side. Return value: -1",
     "output_type": "error",
     "traceback": [
      "\u001b[0;31m---------------------------------------------------------------------------\u001b[0m",
      "\u001b[0;31mRuntimeError\u001b[0m                              Traceback (most recent call last)",
      "Input \u001b[0;32mIn [29]\u001b[0m, in \u001b[0;36m<module>\u001b[0;34m\u001b[0m\n\u001b[1;32m      1\u001b[0m \u001b[38;5;28mobject\u001b[39m \u001b[38;5;241m=\u001b[39m Shape\u001b[38;5;241m.\u001b[39mcreate(\u001b[38;5;28mtype\u001b[39m\u001b[38;5;241m=\u001b[39mPrimitiveShape\u001b[38;5;241m.\u001b[39mCUBOID, size\u001b[38;5;241m=\u001b[39m[\u001b[38;5;241m0.5\u001b[39m, \u001b[38;5;241m0.5\u001b[39m, \u001b[38;5;241m0.5\u001b[39m], position\u001b[38;5;241m=\u001b[39m[\u001b[38;5;241m1.0\u001b[39m,\u001b[38;5;241m0.0\u001b[39m,\u001b[38;5;241m0.5\u001b[39m], orientation\u001b[38;5;241m=\u001b[39m[\u001b[38;5;241m0.\u001b[39m,\u001b[38;5;241m0.\u001b[39m,\u001b[38;5;241m0.\u001b[39m])\n\u001b[0;32m----> 2\u001b[0m shape1,texture1 \u001b[38;5;241m=\u001b[39m \u001b[43mpr\u001b[49m\u001b[38;5;241;43m.\u001b[39;49m\u001b[43mcreate_texture\u001b[49m\u001b[43m(\u001b[49m\u001b[43mfilename\u001b[49m\u001b[38;5;241;43m=\u001b[39;49m\u001b[43mTEXTURES\u001b[49m\u001b[38;5;241;43m+\u001b[39;49m\u001b[38;5;124;43m'\u001b[39;49m\u001b[38;5;124;43mwood.jpg\u001b[39;49m\u001b[38;5;124;43m'\u001b[39;49m\u001b[43m)\u001b[49m\n\u001b[1;32m      3\u001b[0m \u001b[38;5;28mobject\u001b[39m\u001b[38;5;241m.\u001b[39mset_texture(texture\u001b[38;5;241m=\u001b[39mtexture1, mapping_mode\u001b[38;5;241m=\u001b[39mTextureMappingMode\u001b[38;5;241m.\u001b[39mCUBE, repeat_along_u\u001b[38;5;241m=\u001b[39m\u001b[38;5;28;01mTrue\u001b[39;00m, repeat_along_v\u001b[38;5;241m=\u001b[39m\u001b[38;5;28;01mTrue\u001b[39;00m)\n\u001b[1;32m      5\u001b[0m \u001b[38;5;28;01mfor\u001b[39;00m i \u001b[38;5;129;01min\u001b[39;00m \u001b[38;5;28mrange\u001b[39m(\u001b[38;5;241m20\u001b[39m):\n",
      "File \u001b[0;32m~/anaconda3/envs/robostackenv/lib/python3.8/site-packages/pyrep/pyrep.py:307\u001b[0m, in \u001b[0;36mPyRep.create_texture\u001b[0;34m(self, filename, interpolate, decal_mode, repeat_along_u, repeat_along_v)\u001b[0m\n\u001b[1;32m    305\u001b[0m \u001b[38;5;28;01mif\u001b[39;00m repeat_along_v:\n\u001b[1;32m    306\u001b[0m     options \u001b[38;5;241m|\u001b[39m\u001b[38;5;241m=\u001b[39m \u001b[38;5;241m4\u001b[39m\n\u001b[0;32m--> 307\u001b[0m handle \u001b[38;5;241m=\u001b[39m \u001b[43msim\u001b[49m\u001b[38;5;241;43m.\u001b[39;49m\u001b[43msimCreateTexture\u001b[49m\u001b[43m(\u001b[49m\u001b[43mfilename\u001b[49m\u001b[43m,\u001b[49m\u001b[43m \u001b[49m\u001b[43moptions\u001b[49m\u001b[43m)\u001b[49m\n\u001b[1;32m    308\u001b[0m s \u001b[38;5;241m=\u001b[39m Shape(handle)\n\u001b[1;32m    309\u001b[0m \u001b[38;5;28;01mreturn\u001b[39;00m s, s\u001b[38;5;241m.\u001b[39mget_texture()\n",
      "File \u001b[0;32m~/anaconda3/envs/robostackenv/lib/python3.8/site-packages/pyrep/backend/sim.py:1102\u001b[0m, in \u001b[0;36msimCreateTexture\u001b[0;34m(fileName, options)\u001b[0m\n\u001b[1;32m   1095\u001b[0m \u001b[38;5;28;01mdef\u001b[39;00m \u001b[38;5;21msimCreateTexture\u001b[39m(fileName, options):\n\u001b[1;32m   1096\u001b[0m     \u001b[38;5;66;03m# The textureID param that is returned from simCreateTexture seems\u001b[39;00m\n\u001b[1;32m   1097\u001b[0m     \u001b[38;5;66;03m# to be incorrect (in regards to calling simGetShapeTextureId on the\u001b[39;00m\n\u001b[1;32m   1098\u001b[0m     \u001b[38;5;66;03m# generated plane).\u001b[39;00m\n\u001b[1;32m   1099\u001b[0m     handle \u001b[38;5;241m=\u001b[39m lib\u001b[38;5;241m.\u001b[39msimCreateTexture(fileName\u001b[38;5;241m.\u001b[39mencode(\u001b[38;5;124m'\u001b[39m\u001b[38;5;124mascii\u001b[39m\u001b[38;5;124m'\u001b[39m), options, ffi\u001b[38;5;241m.\u001b[39mNULL,\n\u001b[1;32m   1100\u001b[0m                                   ffi\u001b[38;5;241m.\u001b[39mNULL, ffi\u001b[38;5;241m.\u001b[39mNULL, \u001b[38;5;241m0\u001b[39m, ffi\u001b[38;5;241m.\u001b[39mNULL, ffi\u001b[38;5;241m.\u001b[39mNULL,\n\u001b[1;32m   1101\u001b[0m                                   ffi\u001b[38;5;241m.\u001b[39mNULL)\n\u001b[0;32m-> 1102\u001b[0m     \u001b[43m_check_return\u001b[49m\u001b[43m(\u001b[49m\u001b[43mhandle\u001b[49m\u001b[43m)\u001b[49m\n\u001b[1;32m   1103\u001b[0m     \u001b[38;5;28;01mreturn\u001b[39;00m handle\n",
      "File \u001b[0;32m~/anaconda3/envs/robostackenv/lib/python3.8/site-packages/pyrep/backend/sim.py:27\u001b[0m, in \u001b[0;36m_check_return\u001b[0;34m(ret)\u001b[0m\n\u001b[1;32m     25\u001b[0m \u001b[38;5;28;01mdef\u001b[39;00m \u001b[38;5;21m_check_return\u001b[39m(ret):\n\u001b[1;32m     26\u001b[0m     \u001b[38;5;28;01mif\u001b[39;00m ret \u001b[38;5;241m<\u001b[39m \u001b[38;5;241m0\u001b[39m:\n\u001b[0;32m---> 27\u001b[0m         \u001b[38;5;28;01mraise\u001b[39;00m \u001b[38;5;167;01mRuntimeError\u001b[39;00m(\n\u001b[1;32m     28\u001b[0m             \u001b[38;5;124m'\u001b[39m\u001b[38;5;124mThe call failed on the V-REP side. Return value: \u001b[39m\u001b[38;5;132;01m%d\u001b[39;00m\u001b[38;5;124m'\u001b[39m \u001b[38;5;241m%\u001b[39m ret)\n",
      "\u001b[0;31mRuntimeError\u001b[0m: The call failed on the V-REP side. Return value: -1"
     ]
    }
   ],
   "source": [
    "object = Shape.create(type=PrimitiveShape.CUBOID, size=[0.5, 0.5, 0.5], position=[1.0,0.0,0.5], orientation=[0.,0.,0.])\n",
    "shape1,texture1 = pr.create_texture(filename=TEXTURES+'wood.jpg')\n",
    "object.set_texture(texture=texture1, mapping_mode=TextureMappingMode.CUBE, repeat_along_u=True, repeat_along_v=True)\n",
    "\n",
    "for i in range(20):\n",
    "    pr.step() # simulate behaviour"
   ]
  },
  {
   "cell_type": "markdown",
   "id": "eaa4c531",
   "metadata": {},
   "source": [
    "# Quit application"
   ]
  },
  {
   "cell_type": "code",
   "execution_count": null,
   "id": "4174a570",
   "metadata": {},
   "outputs": [],
   "source": [
    "pr.stop()  # Stop the simulation\n",
    "pr.shutdown()  # Close the application"
   ]
  },
  {
   "cell_type": "code",
   "execution_count": null,
   "id": "757c9a2c",
   "metadata": {},
   "outputs": [],
   "source": []
  },
  {
   "cell_type": "code",
   "execution_count": null,
   "id": "63ecd847",
   "metadata": {},
   "outputs": [],
   "source": []
  },
  {
   "cell_type": "code",
   "execution_count": 2,
   "id": "317e2e25",
   "metadata": {},
   "outputs": [],
   "source": [
    "import numpy as np\n",
    "from pyrep import PyRep\n",
    "from pyrep.objects.shape import Shape\n",
    "from pyrep.const import PrimitiveShape, TextureMappingMode, JointMode\n",
    "from pyrep.robots.arms.panda import Panda\n",
    "from pyrep.robots.end_effectors.panda_gripper import PandaGripper\n",
    "from pyrep.errors import ConfigurationPathError\n",
    "import os"
   ]
  },
  {
   "cell_type": "code",
   "execution_count": 3,
   "id": "5e4bbacc",
   "metadata": {},
   "outputs": [
    {
     "name": "stderr",
     "output_type": "stream",
     "text": [
      "Warning: Ignoring XDG_SESSION_TYPE=wayland on Gnome. Use QT_QPA_PLATFORM=wayland to run on Wayland anyway.\n"
     ]
    }
   ],
   "source": [
    "SCENES='/'.join(os.getcwd().split('/')[:-1])+str('/include/scenes/')\n",
    "\n",
    "pr = PyRep()\n",
    "# Launch the application with a scene file in headless mode\n",
    "pr.launch(SCENES+'scene_panda_franka_gripper.ttt', headless=False, responsive_ui=True)\n",
    "pr.start()  # Start the simulation\n",
    "pr.step()\n",
    "\n",
    "panda = Panda()  # Get the panda from the scene\n",
    "gripper = PandaGripper()  # Get the panda gripper from the scene"
   ]
  },
  {
   "cell_type": "code",
   "execution_count": 4,
   "id": "a2374248",
   "metadata": {},
   "outputs": [
    {
     "data": {
      "text/plain": [
       "[<JointMode.FORCE: 5>,\n",
       " <JointMode.FORCE: 5>,\n",
       " <JointMode.FORCE: 5>,\n",
       " <JointMode.FORCE: 5>,\n",
       " <JointMode.FORCE: 5>,\n",
       " <JointMode.FORCE: 5>,\n",
       " <JointMode.FORCE: 5>]"
      ]
     },
     "execution_count": 4,
     "metadata": {},
     "output_type": "execute_result"
    }
   ],
   "source": [
    "''' Joint mode enabled '''\n",
    "panda.get_joint_modes()"
   ]
  },
  {
   "cell_type": "code",
   "execution_count": 5,
   "id": "2de1f919",
   "metadata": {},
   "outputs": [],
   "source": [
    "''' (1) FORCE mode, use: set_joint_target_positions '''\n",
    "panda.set_joint_target_positions([0.,0.,0.,-np.pi/2,0.,np.pi/3,np.pi])\n",
    "for i in range(500): pr.step()\n",
    "\n",
    "panda.set_joint_target_positions([0.,0.,0.,0.,0.,0.,0.])\n",
    "for i in range(50): pr.step()\n",
    "\n",
    "panda.set_joint_target_positions([0.,0.,0.,-np.pi/2,0.,np.pi/3,np.pi])\n",
    "for i in range(50): pr.step()"
   ]
  },
  {
   "cell_type": "code",
   "execution_count": 6,
   "id": "1b414a01",
   "metadata": {},
   "outputs": [],
   "source": [
    "''' (2) Get is_motor_enabled, motor locked and control loop enabled for every joint '''\n",
    "[panda.joints[j].is_motor_enabled() for j in range(7)]\n",
    "[panda.joints[j].is_motor_locked_at_zero_velocity() for j in range(7)]\n",
    "[panda.joints[j].is_control_loop_enabled() for j in range(7)]\n",
    "\n",
    "''' Set those properties '''\n",
    "for i in range(7):\n",
    "    panda.joints[i].set_motor_enabled(1)\n",
    "    panda.joints[i].set_motor_locked_at_zero_velocity(0)\n",
    "\n",
    "''' Actuate single joint '''\n",
    "panda.joints[0].set_joint_target_position(1.)\n",
    "for i in range(50): pr.step()    "
   ]
  },
  {
   "cell_type": "code",
   "execution_count": 7,
   "id": "6cf3a857",
   "metadata": {},
   "outputs": [],
   "source": [
    "''' (4) Set maximum forces '''\n",
    "panda.set_joint_forces([87,\t87,\t87,\t87, 12,\t12,\t12])\n",
    "panda.set_joint_target_positions([0.,0.,0.,-np.pi/2,0.,np.pi/3,np.pi])\n",
    "for i in range(50): pr.step()\n",
    "\n",
    "''' Limit first joint force to 10Nm '''\n",
    "panda.set_joint_forces([10,\t40,\t40,\t40, 12,\t12,\t12])\n",
    "panda.set_joint_target_positions([1.,0.,0.,-np.pi/2,0.,np.pi/3,np.pi])\n",
    "for i in range(50): pr.step()"
   ]
  },
  {
   "cell_type": "code",
   "execution_count": 8,
   "id": "83d8cd03",
   "metadata": {},
   "outputs": [
    {
     "data": {
      "text/plain": [
       "[1.812744140625,\n",
       " 0.008654594421386719,\n",
       " 2.384185791015625e-05,\n",
       " 0.0002384185791015625,\n",
       " 0.0005483627319335938,\n",
       " 0.0027179718017578125,\n",
       " 9.5367431640625e-05]"
      ]
     },
     "execution_count": 8,
     "metadata": {},
     "output_type": "execute_result"
    }
   ],
   "source": [
    "JointMode.__dict__\n",
    "JointMode\n",
    "\n",
    "panda.set_joint_mode(JointMode.FORCE)\n",
    "\n",
    "panda.get_joint_target_positions()\n",
    "panda.get_joint_target_velocities()\n",
    "\n",
    "panda.get_joint_velocities()"
   ]
  },
  {
   "cell_type": "code",
   "execution_count": 9,
   "id": "aa3210bb",
   "metadata": {},
   "outputs": [
    {
     "data": {
      "text/plain": [
       "[2.174999952316284,\n",
       " 2.174999952316284,\n",
       " 2.174999952316284,\n",
       " 2.174999952316284,\n",
       " 2.609999895095825,\n",
       " 2.609999895095825,\n",
       " 2.609999895095825]"
      ]
     },
     "execution_count": 9,
     "metadata": {},
     "output_type": "execute_result"
    }
   ],
   "source": [
    "''' (3) Get upppper velocity limits [rad/s] '''\n",
    "panda.get_joint_upper_velocity_limits()"
   ]
  },
  {
   "cell_type": "code",
   "execution_count": null,
   "id": "06f45acc",
   "metadata": {},
   "outputs": [],
   "source": []
  },
  {
   "cell_type": "code",
   "execution_count": null,
   "id": "4e975930",
   "metadata": {},
   "outputs": [],
   "source": []
  }
 ],
 "metadata": {
  "kernelspec": {
   "display_name": "robostackenv",
   "language": "python",
   "name": "myenv"
  },
  "language_info": {
   "codemirror_mode": {
    "name": "ipython",
    "version": 3
   },
   "file_extension": ".py",
   "mimetype": "text/x-python",
   "name": "python",
   "nbconvert_exporter": "python",
   "pygments_lexer": "ipython3",
   "version": "3.8.10"
  }
 },
 "nbformat": 4,
 "nbformat_minor": 5
}
